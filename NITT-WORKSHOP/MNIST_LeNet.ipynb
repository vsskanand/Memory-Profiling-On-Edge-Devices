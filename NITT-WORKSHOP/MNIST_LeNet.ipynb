{
  "nbformat": 4,
  "nbformat_minor": 0,
  "metadata": {
    "accelerator": "GPU",
    "colab": {
      "name": "MNIST_LeNet.ipynb",
      "provenance": [],
      "collapsed_sections": [],
      "toc_visible": true
    },
    "kernelspec": {
      "display_name": "Python 3",
      "name": "python3"
    }
  },
  "cells": [
    {
      "cell_type": "markdown",
      "metadata": {
        "id": "5HEkgJW62Zhq"
      },
      "source": [
        "Copyright 2020 The TensorFlow Authors."
      ]
    },
    {
      "cell_type": "code",
      "metadata": {
        "cellView": "form",
        "id": "ZvnzHC7lmzWB"
      },
      "source": [
        "#@title Licensed under the Apache License, Version 2.0 (the \"License\");\n",
        "# you may not use this file except in compliance with the License.\n",
        "# You may obtain a copy of the License at\n",
        "#\n",
        "# https://www.apache.org/licenses/LICENSE-2.0\n",
        "#\n",
        "# Unless required by applicable law or agreed to in writing, software\n",
        "# distributed under the License is distributed on an \"AS IS\" BASIS,\n",
        "# WITHOUT WARRANTIES OR CONDITIONS OF ANY KIND, either express or implied.\n",
        "# See the License for the specific language governing permissions and\n",
        "# limitations under the License."
      ],
      "execution_count": null,
      "outputs": []
    },
    {
      "cell_type": "markdown",
      "metadata": {
        "id": "mxPxpHKHMAkl"
      },
      "source": [
        "# Digit Recognition with Convolutional Neural Networks"
      ]
    },
    {
      "cell_type": "markdown",
      "metadata": {
        "id": "p8bO0hupMdZM"
      },
      "source": [
        "## Install Tensorflow 2.2"
      ]
    },
    {
      "cell_type": "code",
      "metadata": {
        "colab": {
          "base_uri": "https://localhost:8080/",
          "height": 1000
        },
        "id": "EHnqiTgk11l1",
        "outputId": "7d751554-fa24-499b-df12-643a4bd18360"
      },
      "source": [
        "\"\"\"\n",
        "LeNet Implementation in TF2\n",
        "https://heartbeat.fritz.ai/fully-training-a-core-ml-convolutional-neural-network-on-device-1483750e846\n",
        "\"\"\"\n",
        "\n",
        "!pip install tensorflow==2.2"
      ],
      "execution_count": null,
      "outputs": [
        {
          "output_type": "stream",
          "text": [
            "Collecting tensorflow==2.2\n",
            "\u001b[?25l  Downloading https://files.pythonhosted.org/packages/4c/1a/0d79814736cfecc825ab8094b39648cc9c46af7af1bae839928acb73b4dd/tensorflow-2.2.0-cp37-cp37m-manylinux2010_x86_64.whl (516.2MB)\n",
            "\u001b[K     |████████████████████████████████| 516.2MB 31kB/s \n",
            "\u001b[?25hRequirement already satisfied: grpcio>=1.8.6 in /usr/local/lib/python3.7/dist-packages (from tensorflow==2.2) (1.32.0)\n",
            "Requirement already satisfied: h5py<2.11.0,>=2.10.0 in /usr/local/lib/python3.7/dist-packages (from tensorflow==2.2) (2.10.0)\n",
            "Requirement already satisfied: astunparse==1.6.3 in /usr/local/lib/python3.7/dist-packages (from tensorflow==2.2) (1.6.3)\n",
            "Requirement already satisfied: absl-py>=0.7.0 in /usr/local/lib/python3.7/dist-packages (from tensorflow==2.2) (0.10.0)\n",
            "Collecting tensorflow-estimator<2.3.0,>=2.2.0\n",
            "\u001b[?25l  Downloading https://files.pythonhosted.org/packages/a4/f5/926ae53d6a226ec0fda5208e0e581cffed895ccc89e36ba76a8e60895b78/tensorflow_estimator-2.2.0-py2.py3-none-any.whl (454kB)\n",
            "\u001b[K     |████████████████████████████████| 460kB 53.6MB/s \n",
            "\u001b[?25hRequirement already satisfied: wheel>=0.26; python_version >= \"3\" in /usr/local/lib/python3.7/dist-packages (from tensorflow==2.2) (0.36.2)\n",
            "Requirement already satisfied: protobuf>=3.8.0 in /usr/local/lib/python3.7/dist-packages (from tensorflow==2.2) (3.12.4)\n",
            "Requirement already satisfied: scipy==1.4.1; python_version >= \"3\" in /usr/local/lib/python3.7/dist-packages (from tensorflow==2.2) (1.4.1)\n",
            "Requirement already satisfied: opt-einsum>=2.3.2 in /usr/local/lib/python3.7/dist-packages (from tensorflow==2.2) (3.3.0)\n",
            "Collecting tensorboard<2.3.0,>=2.2.0\n",
            "\u001b[?25l  Downloading https://files.pythonhosted.org/packages/1d/74/0a6fcb206dcc72a6da9a62dd81784bfdbff5fedb099982861dc2219014fb/tensorboard-2.2.2-py3-none-any.whl (3.0MB)\n",
            "\u001b[K     |████████████████████████████████| 3.0MB 56.1MB/s \n",
            "\u001b[?25hRequirement already satisfied: wrapt>=1.11.1 in /usr/local/lib/python3.7/dist-packages (from tensorflow==2.2) (1.12.1)\n",
            "Requirement already satisfied: keras-preprocessing>=1.1.0 in /usr/local/lib/python3.7/dist-packages (from tensorflow==2.2) (1.1.2)\n",
            "Requirement already satisfied: six>=1.12.0 in /usr/local/lib/python3.7/dist-packages (from tensorflow==2.2) (1.15.0)\n",
            "Requirement already satisfied: numpy<2.0,>=1.16.0 in /usr/local/lib/python3.7/dist-packages (from tensorflow==2.2) (1.19.5)\n",
            "Requirement already satisfied: termcolor>=1.1.0 in /usr/local/lib/python3.7/dist-packages (from tensorflow==2.2) (1.1.0)\n",
            "Requirement already satisfied: gast==0.3.3 in /usr/local/lib/python3.7/dist-packages (from tensorflow==2.2) (0.3.3)\n",
            "Requirement already satisfied: google-pasta>=0.1.8 in /usr/local/lib/python3.7/dist-packages (from tensorflow==2.2) (0.2.0)\n",
            "Requirement already satisfied: setuptools in /usr/local/lib/python3.7/dist-packages (from protobuf>=3.8.0->tensorflow==2.2) (54.0.0)\n",
            "Requirement already satisfied: google-auth-oauthlib<0.5,>=0.4.1 in /usr/local/lib/python3.7/dist-packages (from tensorboard<2.3.0,>=2.2.0->tensorflow==2.2) (0.4.3)\n",
            "Requirement already satisfied: requests<3,>=2.21.0 in /usr/local/lib/python3.7/dist-packages (from tensorboard<2.3.0,>=2.2.0->tensorflow==2.2) (2.23.0)\n",
            "Requirement already satisfied: google-auth<2,>=1.6.3 in /usr/local/lib/python3.7/dist-packages (from tensorboard<2.3.0,>=2.2.0->tensorflow==2.2) (1.27.1)\n",
            "Requirement already satisfied: tensorboard-plugin-wit>=1.6.0 in /usr/local/lib/python3.7/dist-packages (from tensorboard<2.3.0,>=2.2.0->tensorflow==2.2) (1.8.0)\n",
            "Requirement already satisfied: werkzeug>=0.11.15 in /usr/local/lib/python3.7/dist-packages (from tensorboard<2.3.0,>=2.2.0->tensorflow==2.2) (1.0.1)\n",
            "Requirement already satisfied: markdown>=2.6.8 in /usr/local/lib/python3.7/dist-packages (from tensorboard<2.3.0,>=2.2.0->tensorflow==2.2) (3.3.4)\n",
            "Requirement already satisfied: requests-oauthlib>=0.7.0 in /usr/local/lib/python3.7/dist-packages (from google-auth-oauthlib<0.5,>=0.4.1->tensorboard<2.3.0,>=2.2.0->tensorflow==2.2) (1.3.0)\n",
            "Requirement already satisfied: urllib3!=1.25.0,!=1.25.1,<1.26,>=1.21.1 in /usr/local/lib/python3.7/dist-packages (from requests<3,>=2.21.0->tensorboard<2.3.0,>=2.2.0->tensorflow==2.2) (1.24.3)\n",
            "Requirement already satisfied: certifi>=2017.4.17 in /usr/local/lib/python3.7/dist-packages (from requests<3,>=2.21.0->tensorboard<2.3.0,>=2.2.0->tensorflow==2.2) (2020.12.5)\n",
            "Requirement already satisfied: chardet<4,>=3.0.2 in /usr/local/lib/python3.7/dist-packages (from requests<3,>=2.21.0->tensorboard<2.3.0,>=2.2.0->tensorflow==2.2) (3.0.4)\n",
            "Requirement already satisfied: idna<3,>=2.5 in /usr/local/lib/python3.7/dist-packages (from requests<3,>=2.21.0->tensorboard<2.3.0,>=2.2.0->tensorflow==2.2) (2.10)\n",
            "Requirement already satisfied: rsa<5,>=3.1.4; python_version >= \"3.6\" in /usr/local/lib/python3.7/dist-packages (from google-auth<2,>=1.6.3->tensorboard<2.3.0,>=2.2.0->tensorflow==2.2) (4.7.2)\n",
            "Requirement already satisfied: cachetools<5.0,>=2.0.0 in /usr/local/lib/python3.7/dist-packages (from google-auth<2,>=1.6.3->tensorboard<2.3.0,>=2.2.0->tensorflow==2.2) (4.2.1)\n",
            "Requirement already satisfied: pyasn1-modules>=0.2.1 in /usr/local/lib/python3.7/dist-packages (from google-auth<2,>=1.6.3->tensorboard<2.3.0,>=2.2.0->tensorflow==2.2) (0.2.8)\n",
            "Requirement already satisfied: importlib-metadata; python_version < \"3.8\" in /usr/local/lib/python3.7/dist-packages (from markdown>=2.6.8->tensorboard<2.3.0,>=2.2.0->tensorflow==2.2) (3.7.0)\n",
            "Requirement already satisfied: oauthlib>=3.0.0 in /usr/local/lib/python3.7/dist-packages (from requests-oauthlib>=0.7.0->google-auth-oauthlib<0.5,>=0.4.1->tensorboard<2.3.0,>=2.2.0->tensorflow==2.2) (3.1.0)\n",
            "Requirement already satisfied: pyasn1>=0.1.3 in /usr/local/lib/python3.7/dist-packages (from rsa<5,>=3.1.4; python_version >= \"3.6\"->google-auth<2,>=1.6.3->tensorboard<2.3.0,>=2.2.0->tensorflow==2.2) (0.4.8)\n",
            "Requirement already satisfied: typing-extensions>=3.6.4; python_version < \"3.8\" in /usr/local/lib/python3.7/dist-packages (from importlib-metadata; python_version < \"3.8\"->markdown>=2.6.8->tensorboard<2.3.0,>=2.2.0->tensorflow==2.2) (3.7.4.3)\n",
            "Requirement already satisfied: zipp>=0.5 in /usr/local/lib/python3.7/dist-packages (from importlib-metadata; python_version < \"3.8\"->markdown>=2.6.8->tensorboard<2.3.0,>=2.2.0->tensorflow==2.2) (3.4.1)\n",
            "Installing collected packages: tensorflow-estimator, tensorboard, tensorflow\n",
            "  Found existing installation: tensorflow-estimator 2.4.0\n",
            "    Uninstalling tensorflow-estimator-2.4.0:\n",
            "      Successfully uninstalled tensorflow-estimator-2.4.0\n",
            "  Found existing installation: tensorboard 2.4.1\n",
            "    Uninstalling tensorboard-2.4.1:\n",
            "      Successfully uninstalled tensorboard-2.4.1\n",
            "  Found existing installation: tensorflow 2.4.1\n",
            "    Uninstalling tensorflow-2.4.1:\n",
            "      Successfully uninstalled tensorflow-2.4.1\n",
            "Successfully installed tensorboard-2.2.2 tensorflow-2.2.0 tensorflow-estimator-2.2.0\n"
          ],
          "name": "stdout"
        },
        {
          "output_type": "display_data",
          "data": {
            "application/vnd.colab-display-data+json": {
              "pip_warning": {
                "packages": [
                  "tensorboard",
                  "tensorflow"
                ]
              }
            }
          },
          "metadata": {
            "tags": []
          }
        }
      ]
    },
    {
      "cell_type": "markdown",
      "metadata": {
        "id": "0cfz53M8U4B8"
      },
      "source": [
        "## Import the required libraries"
      ]
    },
    {
      "cell_type": "code",
      "metadata": {
        "colab": {
          "base_uri": "https://localhost:8080/"
        },
        "id": "nImr6z7TMBJQ",
        "outputId": "6ffb4671-120a-4472-8dac-199f0c01f34e"
      },
      "source": [
        "import tensorflow as tf\n",
        "from tensorflow import keras\n",
        "\n",
        "import matplotlib.pyplot as plt\n",
        "import numpy as np\n",
        "import pandas as pd\n",
        "import random\n",
        "\n",
        "print(tf.__version__)"
      ],
      "execution_count": null,
      "outputs": [
        {
          "output_type": "stream",
          "text": [
            "2.4.1\n"
          ],
          "name": "stdout"
        }
      ]
    },
    {
      "cell_type": "markdown",
      "metadata": {
        "id": "Rivc81WyRpXG"
      },
      "source": [
        "## Import MNIST dataset from Keras API"
      ]
    },
    {
      "cell_type": "code",
      "metadata": {
        "id": "ZGd5hkioMpcr"
      },
      "source": [
        "# Loading the mnist image dataset available in keras\n",
        "mnist              = keras.datasets.mnist\n",
        "\n",
        "# Splitting the data in train and test images \n",
        "(train_images, train_labels), (test_images, test_labels) = mnist.load_data()\n",
        "\n",
        "# The below lines can be used to increase the training data by repeating the data\n",
        "duplication_factor = 1\n",
        "train_images       = np.repeat(train_images,axis=0,repeats=duplication_factor)\n",
        "train_labels       = np.repeat(train_labels,axis=0,repeats=duplication_factor)\n",
        "\n",
        "# Normalize the input image so that each pixel value is between 0 to 1.\n",
        "train_images       = train_images / 255.0\n",
        "test_images        = test_images / 255.0\n",
        "\n",
        "# Add a color dimension to the images in \"train\" and \"validate\" dataset to\n",
        "#leverage Keras's data augmentation utilities later.\n",
        "train_images       = np.expand_dims(train_images, axis=3)\n",
        "test_images        = np.expand_dims(test_images, axis=3)"
      ],
      "execution_count": null,
      "outputs": []
    },
    {
      "cell_type": "markdown",
      "metadata": {
        "id": "Lhp7Y9BPVLZt"
      },
      "source": [
        "## Plot few of the images and display their corresponding labels"
      ]
    },
    {
      "cell_type": "code",
      "metadata": {
        "colab": {
          "base_uri": "https://localhost:8080/",
          "height": 589
        },
        "id": "xptCfTnBTgvm",
        "outputId": "7686bf78-5974-4ddd-9278-d2494aba6b90"
      },
      "source": [
        "# Show the first 25 images in the training dataset.\n",
        "plt.figure(figsize = (10, 10))\n",
        "for i in range(25):\n",
        "  plt.subplot(5, 5, i + 1)\n",
        "  plt.xticks([])\n",
        "  plt.yticks([])\n",
        "  plt.grid(False)\n",
        "  plt.imshow(np.squeeze(train_images[i], axis=2), cmap=plt.cm.gray)\n",
        "  plt.xlabel(train_labels[i])\n",
        "plt.show()"
      ],
      "execution_count": null,
      "outputs": [
        {
          "output_type": "display_data",
          "data": {
            "image/png": "[encoded data removed]",
            "text/plain": [
              "<Figure size 720x720 with 25 Axes>"
            ]
          },
          "metadata": {
            "tags": []
          }
        }
      ]
    },
    {
      "cell_type": "markdown",
      "metadata": {
        "id": "0SbDbl3HSHh1"
      },
      "source": [
        "## Define the CNN model with the required layers"
      ]
    },
    {
      "cell_type": "code",
      "metadata": {
        "id": "JjoUeI5WSE_H"
      },
      "source": [
        "# Utility to define a sample CNN model\n",
        "def create_model():\n",
        "  model = keras.Sequential([\n",
        "    keras.layers.InputLayer(input_shape = (28, 28, 1)),                             # The input layer\n",
        "    keras.layers.Conv2D(filters = 32, kernel_size = (3, 3), activation=tf.nn.relu), # 1st convolutional layer with activation relu\n",
        "    keras.layers.Conv2D(filters = 64, kernel_size = (3, 3), activation=tf.nn.relu), # 2nd convolutional layer with activation relu\n",
        "    keras.layers.MaxPooling2D(pool_size = (2, 2)),                                  # Adding a max-pooling layer\n",
        "    keras.layers.Dropout(0.25),                                                     # Dropout layer with rate = 0.25\n",
        "    keras.layers.Flatten(),                                                         # Flattening the layer to be fed into final layer\n",
        "    keras.layers.Dense(10, activation=tf.nn.softmax)                                # Final output layer to get the probablities of the the image\n",
        "  ])\n",
        "\n",
        "  # Choosing the optimizer, loss and accuracy functions\n",
        "  model.compile(optimizer = 'adam',\n",
        "                loss      = 'sparse_categorical_crossentropy',\n",
        "                metrics   = ['accuracy'])\n",
        "  return model\n",
        "\n",
        "#Utility to define the LeNet CNN model for digit recognition\n",
        "def create_model_lenet():\n",
        "  model = keras.Sequential([\n",
        "    keras.layers.InputLayer(input_shape=(28, 28, 1)),                                                                                         # The Input layer\n",
        "    keras.layers.Conv2D(filters = 32, kernel_size = (3, 3), activation = tf.nn.relu, kernel_initializer = tf.keras.initializers.he_uniform()),# 1st convolutional layer with activation relu\n",
        "    keras.layers.MaxPooling2D(pool_size = (2, 2)),\n",
        "    keras.layers.Conv2D(filters = 32, kernel_size = (2, 2), activation = tf.nn.relu, kernel_initializer = tf.keras.initializers.he_uniform()),# 2nd convolutional layer with activation relu\n",
        "    keras.layers.MaxPooling2D(pool_size = (2, 2)),                                                                                            # Adding a maxpooling layer\n",
        "    keras.layers.Flatten(),                                                                                                                   # flattening the layer to make it 1D\n",
        "    keras.layers.Dropout(0.25),                                                                                                               # dropout layer with rate=0.25\n",
        "    keras.layers.Flatten(),                                                                                                                   # flattening the layer to make it 1D\n",
        "    keras.layers.Dense(500, activation = tf.nn.relu, kernel_initializer = tf.keras.initializers.he_uniform()),                                # 500 layer fully connected layer\n",
        "    keras.layers.Dense(10, activation  = tf.nn.softmax)                                                                                       # final output layer to get each digit probabilities\n",
        "  ])\n",
        "\n",
        "  # Choosing the optimizer , loss and accuracy functions\n",
        "  model.compile(optimizer = 'adam', loss = 'sparse_categorical_crossentropy', metrics = ['accuracy'])\n",
        "  print(model.summary())\n",
        "\n",
        "  return model"
      ],
      "execution_count": null,
      "outputs": []
    },
    {
      "cell_type": "markdown",
      "metadata": {
        "id": "QGgIJ4pYThkm"
      },
      "source": [
        "# Train the LeNet CNN model"
      ]
    },
    {
      "cell_type": "code",
      "metadata": {
        "colab": {
          "base_uri": "https://localhost:8080/"
        },
        "id": "W2cYWUbkTb8Q",
        "outputId": "e270fe21-f8f1-4d0d-defc-d245984df088"
      },
      "source": [
        "base_model = create_model_lenet()\n",
        "\n",
        "# Fitting the model and training with 5 epochs\n",
        "base_model.fit(train_images, train_labels, epochs = 5, batch_size = 32, validation_data = (test_images, test_labels))                        # the batch size also can be changed"
      ],
      "execution_count": null,
      "outputs": [
        {
          "output_type": "stream",
          "text": [
            "Model: \"sequential_1\"\n",
            "_________________________________________________________________\n",
            "Layer (type)                 Output Shape              Param #   \n",
            "=================================================================\n",
            "conv2d_2 (Conv2D)            (None, 26, 26, 32)        320       \n",
            "_________________________________________________________________\n",
            "max_pooling2d_2 (MaxPooling2 (None, 13, 13, 32)        0         \n",
            "_________________________________________________________________\n",
            "conv2d_3 (Conv2D)            (None, 12, 12, 32)        4128      \n",
            "_________________________________________________________________\n",
            "max_pooling2d_3 (MaxPooling2 (None, 6, 6, 32)          0         \n",
            "_________________________________________________________________\n",
            "flatten_2 (Flatten)          (None, 1152)              0         \n",
            "_________________________________________________________________\n",
            "dropout_1 (Dropout)          (None, 1152)              0         \n",
            "_________________________________________________________________\n",
            "flatten_3 (Flatten)          (None, 1152)              0         \n",
            "_________________________________________________________________\n",
            "dense_2 (Dense)              (None, 500)               576500    \n",
            "_________________________________________________________________\n",
            "dense_3 (Dense)              (None, 10)                5010      \n",
            "=================================================================\n",
            "Total params: 585,958\n",
            "Trainable params: 585,958\n",
            "Non-trainable params: 0\n",
            "_________________________________________________________________\n",
            "None\n",
            "Epoch 1/5\n",
            "1875/1875 [==============================] - 5s 3ms/step - loss: 0.1372 - accuracy: 0.9570 - val_loss: 0.0470 - val_accuracy: 0.9839\n",
            "Epoch 2/5\n",
            "1875/1875 [==============================] - 5s 3ms/step - loss: 0.0546 - accuracy: 0.9826 - val_loss: 0.0409 - val_accuracy: 0.9859\n",
            "Epoch 3/5\n",
            "1875/1875 [==============================] - 5s 3ms/step - loss: 0.0409 - accuracy: 0.9873 - val_loss: 0.0403 - val_accuracy: 0.9861\n",
            "Epoch 4/5\n",
            "1875/1875 [==============================] - 5s 3ms/step - loss: 0.0333 - accuracy: 0.9892 - val_loss: 0.0318 - val_accuracy: 0.9903\n",
            "Epoch 5/5\n",
            "1875/1875 [==============================] - 5s 3ms/step - loss: 0.0275 - accuracy: 0.9913 - val_loss: 0.0329 - val_accuracy: 0.9892\n"
          ],
          "name": "stdout"
        },
        {
          "output_type": "execute_result",
          "data": {
            "text/plain": [
              "<tensorflow.python.keras.callbacks.History at 0x7f71bb5cb610>"
            ]
          },
          "metadata": {
            "tags": []
          },
          "execution_count": 8
        }
      ]
    },
    {
      "cell_type": "markdown",
      "metadata": {
        "id": "lEtLCGS0Ufag"
      },
      "source": [
        "# Distribution of images within the 28X28 square"
      ]
    },
    {
      "cell_type": "code",
      "metadata": {
        "colab": {
          "base_uri": "https://localhost:8080/",
          "height": 366
        },
        "id": "2V0KsvSLVE6I",
        "outputId": "f2e4612b-19fd-46cf-add7-8d28da07f35a"
      },
      "source": [
        "# An utility function that returns where the digit is in the image.\n",
        "def digit_area(mnist_image):\n",
        "  # Remove the color axes\n",
        "  mnist_image = np.squeeze(mnist_image, axis = 2)\n",
        "\n",
        "  # Extract the list of columns that contain at least 1 pixel from the digit\n",
        "  x_nonzero = np.nonzero(np.amax(mnist_image, 0))\n",
        "  x_min     = np.min(x_nonzero)\n",
        "  x_max     = np.max(x_nonzero)\n",
        "  \n",
        "  # Extract the list of rows that contain at least 1 pixel from the digit\n",
        "  y_nonzero = np.nonzero(np.amax(mnist_image, 1))\n",
        "  y_min     = np.min(y_nonzero)\n",
        "  y_max     = np.max(y_nonzero)\n",
        "\n",
        "  # Return call\n",
        "  return [x_min, x_max, y_min, y_max]\n",
        "\n",
        "# Calculate the area containing the digit across MNIST dataset\n",
        "digit_area_rows  = []\n",
        "for image       in train_images:\n",
        "  digit_area_row = digit_area(image)\n",
        "  digit_area_rows.append(digit_area_row)\n",
        "\n",
        "digit_area_df    = pd.DataFrame(digit_area_rows, columns = ['x_min', 'x_max', 'y_min', 'y_max'])\n",
        "digit_area_df.hist()"
      ],
      "execution_count": null,
      "outputs": [
        {
          "output_type": "execute_result",
          "data": {
            "text/plain": [
              "array([[<matplotlib.axes._subplots.AxesSubplot object at 0x7f71bb9aecd0>,\n",
              "        <matplotlib.axes._subplots.AxesSubplot object at 0x7f71b0105c50>],\n",
              "       [<matplotlib.axes._subplots.AxesSubplot object at 0x7f715e168310>,\n",
              "        <matplotlib.axes._subplots.AxesSubplot object at 0x7f715e11e990>]],\n",
              "      dtype=object)"
            ]
          },
          "metadata": {
            "tags": []
          },
          "execution_count": 10
        },
        {
          "output_type": "display_data",
          "data": {
            "image/png": "[encoded data removed]",
            "text/plain": [
              "<Figure size 432x288 with 4 Axes>"
            ]
          },
          "metadata": {
            "tags": [],
            "needs_background": "light"
          }
        }
      ]
    },
    {
      "cell_type": "markdown",
      "metadata": {
        "id": "GulcBpSRc3CO"
      },
      "source": [
        "# Augment the images by applying certain transformations"
      ]
    },
    {
      "cell_type": "code",
      "metadata": {
        "id": "AC5l3W7bY1td"
      },
      "source": [
        "# Define data augmentation - applying transformations on the data like rotation, shifting, etc.\n",
        "datagen = keras.preprocessing.image.ImageDataGenerator(rotation_range = 30, width_shift_range = 0.25, height_shift_range = 0.25, shear_range = 0.25, zoom_range = 0.2)\n",
        "\n",
        "# Generate augmented data from MNIST dataset\n",
        "train_generator = datagen.flow(train_images, train_labels)\n",
        "test_generator  = datagen.flow(test_images, test_labels)"
      ],
      "execution_count": null,
      "outputs": []
    },
    {
      "cell_type": "markdown",
      "metadata": {
        "id": "wy1IfuRZjjec"
      },
      "source": [
        "# Plot few examples from the augmented dataset"
      ]
    },
    {
      "cell_type": "code",
      "metadata": {
        "colab": {
          "base_uri": "https://localhost:8080/",
          "height": 589
        },
        "id": "1G-tWDc2aia1",
        "outputId": "846ba26b-e3bc-46c1-9462-2861fd5c96b0"
      },
      "source": [
        "#plotting augmented images\n",
        "augmented_images, augmented_labels = next(train_generator)\n",
        "plt.figure(figsize=(10,10))\n",
        "for i in range(25):\n",
        "    plt.subplot(5,5,i+1)\n",
        "    plt.xticks([])\n",
        "    plt.yticks([])\n",
        "    plt.grid(False)\n",
        "    plt.imshow(np.squeeze(augmented_images[i], axis=2), cmap=plt.cm.gray)\n",
        "    plt.xlabel('Label: %d' % augmented_labels[i])\n",
        "plt.show()"
      ],
      "execution_count": null,
      "outputs": [
        {
          "output_type": "display_data",
          "data": {
            "image/png": "[encoded data removed]",
            "text/plain": [
              "<Figure size 720x720 with 25 Axes>"
            ]
          },
          "metadata": {
            "tags": []
          }
        }
      ]
    },
    {
      "cell_type": "markdown",
      "metadata": {
        "id": "G-zys-yNkL4b"
      },
      "source": [
        "# Evaluate the performance of the model on the augmented dataset"
      ]
    },
    {
      "cell_type": "code",
      "metadata": {
        "colab": {
          "base_uri": "https://localhost:8080/"
        },
        "id": "IPnP4xPbjqWi",
        "outputId": "ac52d442-6dcb-4e66-c9d8-ab7854e21789"
      },
      "source": [
        "base_model.evaluate(test_generator, batch_size = 32)                                    # the batch size also can be changed"
      ],
      "execution_count": null,
      "outputs": [
        {
          "output_type": "stream",
          "text": [
            "313/313 [==============================] - 3s 9ms/step - loss: 4.3535 - accuracy: 0.3380\n"
          ],
          "name": "stdout"
        },
        {
          "output_type": "execute_result",
          "data": {
            "text/plain": [
              "[4.353522300720215, 0.33799999952316284]"
            ]
          },
          "metadata": {
            "tags": []
          },
          "execution_count": 13
        }
      ]
    },
    {
      "cell_type": "markdown",
      "metadata": {
        "id": "Xls8oqBnlcZj"
      },
      "source": [
        "# Fit an improved model using the augmented dataset"
      ]
    },
    {
      "cell_type": "code",
      "metadata": {
        "colab": {
          "base_uri": "https://localhost:8080/"
        },
        "id": "DX4XRgc9k-6s",
        "outputId": "f176e41d-9d4c-4004-fde9-9b7b270e8447"
      },
      "source": [
        "improved_model = create_model_lenet()\n",
        "improved_model.fit(train_generator, epochs = 5, validation_data = test_generator, batch_size = 32)                                 # the batch size also can be changed"
      ],
      "execution_count": null,
      "outputs": [
        {
          "output_type": "stream",
          "text": [
            "Model: \"sequential_2\"\n",
            "_________________________________________________________________\n",
            "Layer (type)                 Output Shape              Param #   \n",
            "=================================================================\n",
            "conv2d_4 (Conv2D)            (None, 26, 26, 32)        320       \n",
            "_________________________________________________________________\n",
            "max_pooling2d_4 (MaxPooling2 (None, 13, 13, 32)        0         \n",
            "_________________________________________________________________\n",
            "conv2d_5 (Conv2D)            (None, 12, 12, 32)        4128      \n",
            "_________________________________________________________________\n",
            "max_pooling2d_5 (MaxPooling2 (None, 6, 6, 32)          0         \n",
            "_________________________________________________________________\n",
            "flatten_4 (Flatten)          (None, 1152)              0         \n",
            "_________________________________________________________________\n",
            "dropout_2 (Dropout)          (None, 1152)              0         \n",
            "_________________________________________________________________\n",
            "flatten_5 (Flatten)          (None, 1152)              0         \n",
            "_________________________________________________________________\n",
            "dense_4 (Dense)              (None, 500)               576500    \n",
            "_________________________________________________________________\n",
            "dense_5 (Dense)              (None, 10)                5010      \n",
            "=================================================================\n",
            "Total params: 585,958\n",
            "Trainable params: 585,958\n",
            "Non-trainable params: 0\n",
            "_________________________________________________________________\n",
            "None\n",
            "Epoch 1/5\n",
            "1875/1875 [==============================] - 21s 11ms/step - loss: 0.6598 - accuracy: 0.7855 - val_loss: 0.2922 - val_accuracy: 0.9089\n",
            "Epoch 2/5\n",
            "1875/1875 [==============================] - 21s 11ms/step - loss: 0.2935 - accuracy: 0.9081 - val_loss: 0.2064 - val_accuracy: 0.9380\n",
            "Epoch 3/5\n",
            "1875/1875 [==============================] - 21s 11ms/step - loss: 0.2277 - accuracy: 0.9292 - val_loss: 0.1556 - val_accuracy: 0.9517\n",
            "Epoch 4/5\n",
            "1875/1875 [==============================] - 21s 11ms/step - loss: 0.1959 - accuracy: 0.9381 - val_loss: 0.1315 - val_accuracy: 0.9605\n",
            "Epoch 5/5\n",
            "1875/1875 [==============================] - 21s 11ms/step - loss: 0.1815 - accuracy: 0.9443 - val_loss: 0.1191 - val_accuracy: 0.9613\n"
          ],
          "name": "stdout"
        },
        {
          "output_type": "execute_result",
          "data": {
            "text/plain": [
              "<tensorflow.python.keras.callbacks.History at 0x7f715402fd90>"
            ]
          },
          "metadata": {
            "tags": []
          },
          "execution_count": 14
        }
      ]
    },
    {
      "cell_type": "markdown",
      "metadata": {
        "id": "3UlqZ1XnnJRu"
      },
      "source": [
        "# Predict on the augmented test data"
      ]
    },
    {
      "cell_type": "code",
      "metadata": {
        "colab": {
          "base_uri": "https://localhost:8080/"
        },
        "id": "c0g89zO8ea9Y",
        "outputId": "fafb8d99-debd-4ec5-90cb-539c5a3e77a0"
      },
      "source": [
        "improved_model.evaluate(test_generator, batch_size = 32)                                                                # the batch size also can be changed"
      ],
      "execution_count": null,
      "outputs": [
        {
          "output_type": "stream",
          "text": [
            "313/313 [==============================] - 3s 9ms/step - loss: 0.1217 - accuracy: 0.9614\n"
          ],
          "name": "stdout"
        },
        {
          "output_type": "execute_result",
          "data": {
            "text/plain": [
              "[0.12165027856826782, 0.9613999724388123]"
            ]
          },
          "metadata": {
            "tags": []
          },
          "execution_count": 15
        }
      ]
    },
    {
      "cell_type": "markdown",
      "metadata": {
        "id": "AIu9BCFhegMG"
      },
      "source": [
        "# Predict using the improved model on the original test data"
      ]
    },
    {
      "cell_type": "code",
      "metadata": {
        "colab": {
          "base_uri": "https://localhost:8080/"
        },
        "id": "bagJOyi9egZc",
        "outputId": "41e632a3-f6ce-496e-d7d2-bec968ff4262"
      },
      "source": [
        "improved_model.evaluate(test_images, test_labels, batch_size = 32)                                                      # the batch size also can be changed"
      ],
      "execution_count": null,
      "outputs": [
        {
          "output_type": "stream",
          "text": [
            "313/313 [==============================] - 1s 2ms/step - loss: 0.0561 - accuracy: 0.9811\n"
          ],
          "name": "stdout"
        },
        {
          "output_type": "execute_result",
          "data": {
            "text/plain": [
              "[0.056078772991895676, 0.9811000227928162]"
            ]
          },
          "metadata": {
            "tags": []
          },
          "execution_count": 16
        }
      ]
    },
    {
      "cell_type": "markdown",
      "metadata": {
        "id": "fsI4mHtbpE_A"
      },
      "source": [
        "# Convert to TensorFlow Lite"
      ]
    },
    {
      "cell_type": "code",
      "metadata": {
        "colab": {
          "base_uri": "https://localhost:8080/",
          "height": 17
        },
        "id": "a0l6HcBTmh7-",
        "outputId": "be0c1788-e2e8-4631-8c4d-c4bd81ed39d4"
      },
      "source": [
        "# Convert Keras model to TF Lite format and quantize.\n",
        "converter = tf.lite.TFLiteConverter.from_keras_model(improved_model)\n",
        "converter.optimizations = [tf.lite.Optimize.DEFAULT]\n",
        "tflite_quantized_model = converter.convert()\n",
        "\n",
        "# Save the quantized model to file to the Downloads directory\n",
        "f = open('mnist.tflite', \"wb\")\n",
        "f.write(tflite_quantized_model)\n",
        "f.close()\n",
        "\n",
        "# Download the digit classification model\n",
        "from google.colab import files\n",
        "files.download('mnist.tflite')"
      ],
      "execution_count": null,
      "outputs": [
        {
          "output_type": "display_data",
          "data": {
            "application/javascript": [
              "\n",
              "    async function download(id, filename, size) {\n",
              "      if (!google.colab.kernel.accessAllowed) {\n",
              "        return;\n",
              "      }\n",
              "      const div = document.createElement('div');\n",
              "      const label = document.createElement('label');\n",
              "      label.textContent = `Downloading \"${filename}\": `;\n",
              "      div.appendChild(label);\n",
              "      const progress = document.createElement('progress');\n",
              "      progress.max = size;\n",
              "      div.appendChild(progress);\n",
              "      document.body.appendChild(div);\n",
              "\n",
              "      const buffers = [];\n",
              "      let downloaded = 0;\n",
              "\n",
              "      const channel = await google.colab.kernel.comms.open(id);\n",
              "      // Send a message to notify the kernel that we're ready.\n",
              "      channel.send({})\n",
              "\n",
              "      for await (const message of channel.messages) {\n",
              "        // Send a message to notify the kernel that we're ready.\n",
              "        channel.send({})\n",
              "        if (message.buffers) {\n",
              "          for (const buffer of message.buffers) {\n",
              "            buffers.push(buffer);\n",
              "            downloaded += buffer.byteLength;\n",
              "            progress.value = downloaded;\n",
              "          }\n",
              "        }\n",
              "      }\n",
              "      const blob = new Blob(buffers, {type: 'application/binary'});\n",
              "      const a = document.createElement('a');\n",
              "      a.href = window.URL.createObjectURL(blob);\n",
              "      a.download = filename;\n",
              "      div.appendChild(a);\n",
              "      a.click();\n",
              "      div.remove();\n",
              "    }\n",
              "  "
            ],
            "text/plain": [
              "<IPython.core.display.Javascript object>"
            ]
          },
          "metadata": {
            "tags": []
          }
        },
        {
          "output_type": "display_data",
          "data": {
            "application/javascript": [
              "download(\"download_7202d3e6-6f16-48d6-a5be-4ba3b013d29a\", \"mnist.tflite\", 591696)"
            ],
            "text/plain": [
              "<IPython.core.display.Javascript object>"
            ]
          },
          "metadata": {
            "tags": []
          }
        }
      ]
    },
    {
      "cell_type": "code",
      "metadata": {
        "id": "ROy4SZl7XMS6"
      },
      "source": [
        ""
      ],
      "execution_count": null,
      "outputs": []
    },
    {
      "cell_type": "markdown",
      "metadata": {
        "id": "7sXmu8G8XZOo"
      },
      "source": [
        "APK file for Installing MNIST android app\n"
      ]
    },
    {
      "cell_type": "code",
      "metadata": {
        "id": "Z9cOW_7sXMWG"
      },
      "source": [
        "https://github.com/vsskanand/Memory-Profiling-On-Edge-Devices\n"
      ],
      "execution_count": null,
      "outputs": []
    },
    {
      "cell_type": "code",
      "metadata": {
        "id": "dIFEXY4AXMZH"
      },
      "source": [
        ""
      ],
      "execution_count": null,
      "outputs": []
    },
    {
      "cell_type": "code",
      "metadata": {
        "id": "ddZmeYpmXMcC"
      },
      "source": [
        ""
      ],
      "execution_count": null,
      "outputs": []
    },
    {
      "cell_type": "markdown",
      "metadata": {
        "id": "Mnu8j7x2L9Ov"
      },
      "source": [
        "# Monitoring memory and system level details"
      ]
    },
    {
      "cell_type": "markdown",
      "metadata": {
        "id": "dDQbZvUrTDey"
      },
      "source": [
        "## Get System Details (in Python)"
      ]
    },
    {
      "cell_type": "code",
      "metadata": {
        "colab": {
          "base_uri": "https://localhost:8080/"
        },
        "id": "ZcLm6b17S7zF",
        "outputId": "c2d2f821-1566-49df-9e23-be6f27d50e32"
      },
      "source": [
        "import numpy as np\n",
        "import psutil\n",
        "import platform\n",
        "import sys\n",
        "import tensorflow as tf\n",
        "from tensorflow.python.client import device_lib\n",
        "\n",
        "gb_num = 1024 * 1024 * 1024\n",
        "\n",
        "\n",
        "print(\"=\"*18, \"Memory Information\", \"=\"*18)\n",
        "\n",
        "print(f\"CPU Percent: {psutil.cpu_percent()}\")\n",
        "print(f\"Virtual Memory: {psutil.virtual_memory()._asdict()}\")\n",
        "print(f\"RAM Used (%): {np.round(psutil.virtual_memory().percent, 2)}\")\n",
        "print(f\"RAM Available (%): {np.round(100 * (psutil.virtual_memory().available/ psutil.virtual_memory().total), 2)}\")\n",
        "\n",
        "\n",
        "print(f\"RAM Used (Gb): {np.round(psutil.virtual_memory().used / gb_num, 2)} Gb\")\n",
        "print(f\"RAM Active (Gb): {np.round(psutil.virtual_memory().active / gb_num, 2)} Gb\")\n",
        "print(f\"RAM InActive (Gb): {np.round(psutil.virtual_memory().inactive / gb_num, 2)} Gb\")\n",
        "print(f\"RAM Available (Gb): {np.round(psutil.virtual_memory().available / gb_num, 2)} Gb\")\n",
        "print(f\"RAM Total (Gb): {np.round(psutil.virtual_memory().total / gb_num, 2)} Gb\")"
      ],
      "execution_count": null,
      "outputs": [
        {
          "output_type": "stream",
          "text": [
            "================== Memory Information ==================\n",
            "CPU Percent: 25.0\n",
            "Virtual Memory: OrderedDict([('total', 13653557248), ('available', 12657426432), ('percent', 7.3), ('used', 710598656), ('free', 10815664128), ('active', 1091833856), ('inactive', 1415430144), ('buffers', 86245376), ('cached', 2041049088), ('shared', 1032192), ('slab', 178286592)])\n",
            "RAM Used (%): 7.3\n",
            "RAM Available (%): 92.7\n",
            "RAM Used (Gb): 0.66 Gb\n",
            "RAM Active (Gb): 1.02 Gb\n",
            "RAM InActive (Gb): 1.32 Gb\n",
            "RAM Available (Gb): 11.79 Gb\n",
            "RAM Total (Gb): 12.72 Gb\n"
          ],
          "name": "stdout"
        }
      ]
    },
    {
      "cell_type": "code",
      "metadata": {
        "colab": {
          "base_uri": "https://localhost:8080/"
        },
        "id": "mC6GkpQ9S71x",
        "outputId": "61646ce2-74a4-4147-8671-eb87c5c136ec"
      },
      "source": [
        "\n",
        "\n",
        "print(\"=\"*18, \"System Information\", \"=\"*18)\n",
        "uname = platform.uname()\n",
        "\n",
        "print(f\">>> Sytem \\t\\t: {uname.system}\")\n",
        "print(f\">>> Node Name \\t\\t: {uname.node}\")\n",
        "print(f\">>> Release \\t\\t: {uname.release}\")\n",
        "print(f\">>> Version \\t\\t: {uname.version}\")\n",
        "print(f\">>> Machine \\t\\t: {uname.machine}\")\n",
        "print(f\">>> Processor \\t\\t: {uname.processor}\")\n",
        "\n",
        "device_name = tf.test.gpu_device_name()\n",
        "available_local_devices = device_lib.list_local_devices()\n",
        "\n",
        "# print(available_local_devices)\n",
        "\n",
        "print(\"=\"*56)\n",
        "\n",
        "for device in available_local_devices:\n",
        "  if device.device_type == \"TPU\":\n",
        "    print(\"TPU\")\n",
        "  elif device.device_type == \"GPU\":\n",
        "    print(\">>> Device Information\")\n",
        "    print(f\"\\t] Device Name : {device.name}\")\n",
        "    print(f\"\\t] Device Type : {device.device_type}\")\n",
        "    print(f\"\\t] Memory      : {round(device.memory_limit / gb_num, 2)} Gb\")\n",
        "    print(f\"\\t] Description : {device.physical_device_desc}\")\n",
        "    print(f\"\\t] Incarnation : {device.incarnation}\")\n",
        "  else:\n",
        "    print(\"Device: CPU\")\n",
        "    \n",
        "\n",
        "print(\"=\"*56)\n",
        "print(sys.version)\n"
      ],
      "execution_count": null,
      "outputs": [
        {
          "output_type": "stream",
          "text": [
            "================== System Information ==================\n",
            ">>> Sytem \t\t: Linux\n",
            ">>> Node Name \t\t: 9a65ec208cc8\n",
            ">>> Release \t\t: 4.19.112+\n",
            ">>> Version \t\t: #1 SMP Thu Jul 23 08:00:38 PDT 2020\n",
            ">>> Machine \t\t: x86_64\n",
            ">>> Processor \t\t: x86_64\n",
            "========================================================\n",
            "Device: CPU\n",
            ">>> Device Information\n",
            "\t] Device Name : /device:GPU:0\n",
            "\t] Device Type : GPU\n",
            "\t] Memory      : 13.67 Gb\n",
            "\t] Description : device: 0, name: Tesla T4, pci bus id: 0000:00:04.0, compute capability: 7.5\n",
            "\t] Incarnation : 4612002984542997251\n",
            "========================================================\n",
            "3.7.10 (default, Feb 20 2021, 21:17:23) \n",
            "[GCC 7.5.0]\n"
          ],
          "name": "stdout"
        }
      ]
    },
    {
      "cell_type": "code",
      "metadata": {
        "colab": {
          "base_uri": "https://localhost:8080/"
        },
        "id": "MEuqySL5S74y",
        "outputId": "687ad8cc-1a93-4a06-a863-df35ee7111f3"
      },
      "source": [
        "try:\n",
        "  \"\"\"\n",
        "  Google TPU https://cloud.google.com/tpu\n",
        "  Tensorflow TPU https://www.tensorflow.org/guide/tpu\n",
        "  \"\"\"\n",
        "\n",
        "  resolver = tf.distribute.cluster_resolver.TPUClusterResolver(tpu='')\n",
        "  tf.config.experimental_connect_to_cluster(resolver)\n",
        "  # This is the TPU initialization code that has to be at the beginning.\n",
        "  tf.tpu.experimental.initialize_tpu_system(resolver)\n",
        "  print(\"All devices: \", tf.config.list_logical_devices('TPU'))\n",
        "\n",
        "  available_tpu_devices = tf.config.list_logical_devices('TPU')\n",
        "\n",
        "  for device in available_tpu_devices:\n",
        "    print(device)\n",
        "  \n",
        "except:\n",
        "  print(\"Change runtime type option to TPU\")"
      ],
      "execution_count": null,
      "outputs": [
        {
          "output_type": "stream",
          "text": [
            "Change runtime type option to TPU\n"
          ],
          "name": "stdout"
        }
      ]
    },
    {
      "cell_type": "code",
      "metadata": {
        "colab": {
          "base_uri": "https://localhost:8080/"
        },
        "id": "v4sD0CBRTZ9r",
        "outputId": "1940dc59-6d3d-4603-fe01-edc19e45e485"
      },
      "source": [
        "  print(\"=\"*18, \"Disk Information\", \"=\"*18)\n",
        "\n",
        "  print(\"Logical/Total Core Count: \", psutil.cpu_count(logical=True) )\n",
        "  print(\"Physical Core Count: \", psutil.cpu_count(logical=False))\n",
        "  \n",
        "  partitions = psutil.disk_partitions() # get disk partitions\n",
        "\n",
        "  print(partitions)\n",
        "\n",
        "  for x in partitions:\n",
        "\n",
        "    disk = psutil.disk_usage(x.mountpoint)\n",
        "\n",
        "    print(\"] Drive: \", x.device)\n",
        "    print(\"] Drive: \", x.device)\n",
        "    print(\"\\t] File system type: \", x.fstype)\n",
        "\n",
        "    print(\"\\t\\t] Total Size: \", disk.total / gb_num)\n",
        "    print(\"\\t\\t] Used:       \", disk.used/gb_num)\n",
        "    print(\"\\t\\t] Free:       \", disk.free/gb_num)\n",
        "    print(\"\\t\\t] Percentage: \", disk.percent, \"%\\n\")\n",
        "\n",
        "  freq=psutil.cpu_freq() # Get CPU frequencies\n",
        "  \n",
        "  if freq:\n",
        "    print(\"Maximum Frequency:\" ,freq.max, \"Mhz\")\n",
        "    print(\"Minimum Frequency:\", freq.min,\"Mhz\")\n",
        "    print(\"Current Frequency: \",freq.current ,\"Mhz\")\n",
        "  else:\n",
        "    print(\"Unable to ger CPU Frequencies..!\")\n",
        "\n",
        "  # Get CPU usage.\n",
        "  for x, percentage_usage in enumerate(psutil.cpu_percent(percpu=True)):\n",
        "      print(\"Core \",x, \":\",percentage_usage,\"%\")\n",
        "\n",
        "  print(\"Total CPU Usage:\", psutil.cpu_percent(),\"%\\n\")"
      ],
      "execution_count": null,
      "outputs": [
        {
          "output_type": "stream",
          "text": [
            "================== Disk Information ==================\n",
            "Logical/Total Core Count:  2\n",
            "Physical Core Count:  1\n",
            "[sdiskpart(device='/dev/sda1', mountpoint='/usr/lib64-nvidia', fstype='ext4', opts='rw,nosuid,nodev,relatime,commit=30'), sdiskpart(device='/dev/sda1', mountpoint='/opt/bin', fstype='ext4', opts='rw,nosuid,nodev,relatime,commit=30'), sdiskpart(device='/dev/sda1', mountpoint='/etc/resolv.conf', fstype='ext4', opts='rw,nosuid,nodev,relatime,commit=30'), sdiskpart(device='/dev/sda1', mountpoint='/etc/hostname', fstype='ext4', opts='rw,nosuid,nodev,relatime,commit=30'), sdiskpart(device='/dev/sda1', mountpoint='/etc/hosts', fstype='ext4', opts='rw,nosuid,nodev,relatime,commit=30')]\n",
            "] Drive:  /dev/sda1\n",
            "] Drive:  /dev/sda1\n",
            "\t] File system type:  ext4\n",
            "\t\t] Total Size:  74.60099792480469\n",
            "\t\t] Used:        39.8656005859375\n",
            "\t\t] Free:        34.71977233886719\n",
            "\t\t] Percentage:  53.4 %\n",
            "\n",
            "] Drive:  /dev/sda1\n",
            "] Drive:  /dev/sda1\n",
            "\t] File system type:  ext4\n",
            "\t\t] Total Size:  74.60099792480469\n",
            "\t\t] Used:        39.8656005859375\n",
            "\t\t] Free:        34.71977233886719\n",
            "\t\t] Percentage:  53.4 %\n",
            "\n",
            "] Drive:  /dev/sda1\n",
            "] Drive:  /dev/sda1\n",
            "\t] File system type:  ext4\n",
            "\t\t] Total Size:  74.60099792480469\n",
            "\t\t] Used:        39.8656005859375\n",
            "\t\t] Free:        34.71977233886719\n",
            "\t\t] Percentage:  53.4 %\n",
            "\n",
            "] Drive:  /dev/sda1\n",
            "] Drive:  /dev/sda1\n",
            "\t] File system type:  ext4\n",
            "\t\t] Total Size:  74.60099792480469\n",
            "\t\t] Used:        39.8656005859375\n",
            "\t\t] Free:        34.71977233886719\n",
            "\t\t] Percentage:  53.4 %\n",
            "\n",
            "] Drive:  /dev/sda1\n",
            "] Drive:  /dev/sda1\n",
            "\t] File system type:  ext4\n",
            "\t\t] Total Size:  74.60099792480469\n",
            "\t\t] Used:        39.8656005859375\n",
            "\t\t] Free:        34.71977233886719\n",
            "\t\t] Percentage:  53.4 %\n",
            "\n",
            "Unable to ger CPU Frequencies..!\n",
            "Core  0 : 1.3 %\n",
            "Core  1 : 1.4 %\n",
            "Total CPU Usage: 1.4 %\n",
            "\n"
          ],
          "name": "stdout"
        }
      ]
    }
  ]
}